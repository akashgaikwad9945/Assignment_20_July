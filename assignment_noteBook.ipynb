{
 "cells": [
  {
   "cell_type": "markdown",
   "id": "4c818f08-8567-480d-a724-2e6a7a44dc33",
   "metadata": {},
   "source": [
    "# Question 1.3"
   ]
  },
  {
   "cell_type": "code",
   "execution_count": 1,
   "id": "ee12fe4c-2938-4ce5-aa7b-aeaca2c68525",
   "metadata": {},
   "outputs": [],
   "source": [
    "name = [\"Mohan\", \"dash\", \"karam\", \"chandra\", \"gandhi\", \"Bapu\"]\n",
    "#a) Add an element \"freedom_fighter\" at the 0th index:\n"
   ]
  },
  {
   "cell_type": "code",
   "execution_count": 2,
   "id": "faa76831-67f5-458b-bd22-f45770ec9f5c",
   "metadata": {},
   "outputs": [
    {
     "name": "stdout",
     "output_type": "stream",
     "text": [
      "['freedom_fighter', 'Mohan', 'dash', 'karam', 'chandra', 'gandhi', 'Bapu']\n"
     ]
    }
   ],
   "source": [
    "name.insert(0,\"freedom_fighter\")\n",
    "print(name)"
   ]
  },
  {
   "cell_type": "code",
   "execution_count": 3,
   "id": "d2447af6-097d-45bc-8d40-3e8d6873f21c",
   "metadata": {},
   "outputs": [
    {
     "name": "stdout",
     "output_type": "stream",
     "text": [
      "8\n"
     ]
    }
   ],
   "source": [
    "\n",
    "# b) find the output of the following ,and explain how?\n",
    "name = [\"freedomFighter\",\"Bapuji\",\"MOhan\" ,\"dash\", \"karam\",\"chandra\",\"gandhi\"]\n",
    "length1=len((name[-len(name)+1:-1:2]))\n",
    "length2=len((name[-len(name)+1:-1]))\n",
    "print(length1+length2)\n",
    "\n"
   ]
  },
  {
   "cell_type": "code",
   "execution_count": 4,
   "id": "f1cb6f03-edb3-4f7d-a9a5-9917a8df4c44",
   "metadata": {},
   "outputs": [
    {
     "name": "stdout",
     "output_type": "stream",
     "text": [
      "6\n"
     ]
    },
    {
     "data": {
      "text/plain": [
       "'1. **List Slicing:**\\n\\n   - `name[-len(name)+1:-1:2]`:\\n     - `-len(name) + 1` is `-7 + 1 = -6`\\n     - The slice starts from the second element (`\"Bapuji\"`), ends at the second last element (`\"chandra\"`), and takes every second element.\\n     - Sliced list: `[\"Bapuji\", \"dash\", \"chandra\"]`\\n     - `length1 = 3`\\n\\n   - `name[-len(name)+1:-1]`:\\n     - Same start and end points but with no step, so it includes all elements from the second element to the second last element.\\n     - Sliced list: `[\"Bapuji\", \"MOhan\", \"dash\", \"karam\", \"chandra\"]`\\n     - `length2 = 5`\\n\\n2. **Summing Lengths:**\\n\\n   - `length1 + length2 = 3 + 5 = 8`\\n\\n### Output:\\n\\n 8\\n\\n # This code computes the lengths of two slices of the list `name` and sums them up, resulting in `8`. '"
      ]
     },
     "execution_count": 4,
     "metadata": {},
     "output_type": "execute_result"
    }
   ],
   "source": [
    "#Let's break down the given code and understand its output:\n",
    "\n",
    "name = [\"freedomFighter\", \"Bapuji\", \"MOhan\" \"dash\", \"karam\", \"chandra\", \"gandhi\"]\n",
    "length1 = len(name[-len(name)+1:-1:2])\n",
    "length2 = len(name[-len(name)+1:-1])\n",
    "print(length1 + length2)\n",
    "\n",
    "\n",
    "# First, let's correct the list definition because there's a missing comma between `\"MOhan\"` and `\"dash\"`:\n",
    "\n",
    "\n",
    "name = [\"freedomFighter\", \"Bapuji\", \"MOhan\", \"dash\", \"karam\", \"chandra\", \"gandhi\"]\n",
    "\n",
    "\n",
    "### Explanation:\n",
    "\n",
    "'''1. **List Slicing:**\n",
    "\n",
    "   - `name[-len(name)+1:-1:2]`:\n",
    "     - `-len(name) + 1` is `-7 + 1 = -6`\n",
    "     - The slice starts from the second element (`\"Bapuji\"`), ends at the second last element (`\"chandra\"`), and takes every second element.\n",
    "     - Sliced list: `[\"Bapuji\", \"dash\", \"chandra\"]`\n",
    "     - `length1 = 3`\n",
    "\n",
    "   - `name[-len(name)+1:-1]`:\n",
    "     - Same start and end points but with no step, so it includes all elements from the second element to the second last element.\n",
    "     - Sliced list: `[\"Bapuji\", \"MOhan\", \"dash\", \"karam\", \"chandra\"]`\n",
    "     - `length2 = 5`\n",
    "\n",
    "2. **Summing Lengths:**\n",
    "\n",
    "   - `length1 + length2 = 3 + 5 = 8`\n",
    "\n",
    "### Output:\n",
    "\n",
    " 8\n",
    "\n",
    " # This code computes the lengths of two slices of the list `name` and sums them up, resulting in `8`. '''"
   ]
  },
  {
   "cell_type": "raw",
   "id": "48136bea-50ae-4371-9b3a-68ece5cf2e0e",
   "metadata": {},
   "source": [
    "c) add two more elements in the name [\"NetaJi\",\"Bose\"] at the end of the list."
   ]
  },
  {
   "cell_type": "code",
   "execution_count": 5,
   "id": "e202ec4b-6f84-4c7c-a6ed-fd602716cdc2",
   "metadata": {},
   "outputs": [
    {
     "name": "stdout",
     "output_type": "stream",
     "text": [
      "['freedomFighter', 'Bapuji', 'MOhan', 'dash', 'karam', 'chandra', 'gandhi', 'NetaJi', 'Bose']\n"
     ]
    }
   ],
   "source": [
    "name.extend([\"NetaJi\",\"Bose\"])\n",
    "print(name)"
   ]
  },
  {
   "cell_type": "code",
   "execution_count": 6,
   "id": "a0a8bb72-7b4a-4a95-97cd-b439a9851365",
   "metadata": {},
   "outputs": [
    {
     "name": "stdout",
     "output_type": "stream",
     "text": [
      "['Mohan', 'dash', 'karam', 'chandra', 'gandi', 'Bapuji']\n"
     ]
    }
   ],
   "source": [
    "# d) What will be the value of temp:\n",
    "\n",
    "\n",
    "\n",
    "name = [\"Bapuji\", \"dash\", \"karam\", \"chandra\", \"gandi\", \"Mohan\"]\n",
    "temp = name[-1]\n",
    "name[-1] = name[0]\n",
    "name[0] = temp\n",
    "print(name)"
   ]
  },
  {
   "cell_type": "markdown",
   "id": "69e5974b-ecc2-4c13-be75-13fbec18d6bf",
   "metadata": {},
   "source": [
    "# Question 1.4"
   ]
  },
  {
   "cell_type": "code",
   "execution_count": 7,
   "id": "b36aa0f2-8b5f-4c76-a0c9-9ce804894970",
   "metadata": {},
   "outputs": [
    {
     "name": "stdout",
     "output_type": "stream",
     "text": [
      "2\n",
      "4\n",
      "7\n",
      "8\n"
     ]
    }
   ],
   "source": [
    " # Find the output of the following:\n",
    "\n",
    "animal = ['Human', 'cat', 'mat', 'cat', 'rat', 'Human', 'Lion']\n",
    "print(animal.count('Human'))\n",
    "print(animal.index('rat'))\n",
    "print(len(animal))\n",
    "\n",
    "name = [\"freedomFighter\", \"Bapuji\", \"MOhan\", \"dash\", \"karam\", \"chandra\", \"gandhi\"]\n",
    "length1 = len(name[-len(name)+1:-1:2])\n",
    "length2 = len(name[-len(name)+1:-1])\n",
    "print(length1 + length2)"
   ]
  },
  {
   "cell_type": "markdown",
   "id": "752711ab-26fd-4134-a026-0b2c71828817",
   "metadata": {},
   "source": [
    "# Question 1.5"
   ]
  },
  {
   "cell_type": "code",
   "execution_count": 8,
   "id": "5dfde793-18e7-4018-b9ce-774786d9aebe",
   "metadata": {},
   "outputs": [],
   "source": [
    "#Given the tuple:\n",
    "\n",
    "tuple1 = (10, 20, \"Apple\", 3.4, 'a', [\"master\", \"ji\"], (\"sita\", \"geeta\", 22), [{\"roll_no\": 1}, {\"name\": \"Navneet\"}])"
   ]
  },
  {
   "cell_type": "code",
   "execution_count": 9,
   "id": "bf75d242-3a1a-4739-bb16-501c7b6672bb",
   "metadata": {},
   "outputs": [
    {
     "name": "stdout",
     "output_type": "stream",
     "text": [
      "8\n"
     ]
    }
   ],
   "source": [
    "# a) Print the length of tuple1:\n",
    "\n",
    "print(len(tuple1))"
   ]
  },
  {
   "cell_type": "code",
   "execution_count": 10,
   "id": "63d83c77-3545-41e8-81ea-3bd998255aa2",
   "metadata": {},
   "outputs": [
    {
     "name": "stdout",
     "output_type": "stream",
     "text": [
      "Navneet\n"
     ]
    }
   ],
   "source": [
    "# b) Print the value of name key:\n",
    "\n",
    "print(tuple1[-1][-1][\"name\"])"
   ]
  },
  {
   "cell_type": "code",
   "execution_count": 11,
   "id": "7045990e-87ea-4780-bac1-600375cb38ac",
   "metadata": {},
   "outputs": [
    {
     "name": "stdout",
     "output_type": "stream",
     "text": [
      "1\n"
     ]
    }
   ],
   "source": [
    "# c) Fetch the value of roll_no from this tuple:\n",
    "\n",
    "print(tuple1[-1][0][\"roll_no\"])"
   ]
  },
  {
   "cell_type": "code",
   "execution_count": 12,
   "id": "6339a045-c3d9-452d-8623-4ad96fe85c4d",
   "metadata": {},
   "outputs": [
    {
     "name": "stdout",
     "output_type": "stream",
     "text": [
      "ji\n"
     ]
    }
   ],
   "source": [
    "# d) Print the second element of the sixth element:\n",
    "print(tuple1[5][1])"
   ]
  },
  {
   "cell_type": "code",
   "execution_count": 13,
   "id": "43751438-4ebb-4fa1-880f-d26e0b1a437b",
   "metadata": {},
   "outputs": [
    {
     "name": "stdout",
     "output_type": "stream",
     "text": [
      "22\n"
     ]
    }
   ],
   "source": [
    "# e) Fetch the element 22 from this tuple:\n",
    "\n",
    "print(tuple1[6][2])"
   ]
  },
  {
   "cell_type": "markdown",
   "id": "e8b4ca5f-4352-4bd2-acd0-b485de6f6d46",
   "metadata": {},
   "source": [
    "# Question 1.6\n",
    "Write a program to display the appropriate message as per the color of signal (RED-Stop/Yellow-Stay/Green-Go) at the road crossing.\n",
    "\n"
   ]
  },
  {
   "cell_type": "code",
   "execution_count": 14,
   "id": "29900b14-b47e-49a6-8295-c9425414b59b",
   "metadata": {},
   "outputs": [
    {
     "name": "stdin",
     "output_type": "stream",
     "text": [
      "Enter the signal color (RED/YELLOW/GREEN):  red\n"
     ]
    },
    {
     "name": "stdout",
     "output_type": "stream",
     "text": [
      "Stop\n"
     ]
    }
   ],
   "source": [
    "signal = input(\"Enter the signal color (RED/YELLOW/GREEN): \").strip().lower()\n",
    "\n",
    "if signal == \"red\":\n",
    "    print(\"Stop\")\n",
    "elif signal == \"yellow\":\n",
    "    print(\"Stay\")\n",
    "elif signal == \"green\":\n",
    "    print(\"Go\")\n",
    "else:\n",
    "    print(\"Invalid color\")\n"
   ]
  },
  {
   "cell_type": "markdown",
   "id": "a3997b53-f7b9-40bc-8a71-1b990166ef21",
   "metadata": {},
   "source": [
    "# Question 1.7\n",
    "Write a program to create a simple calculator performing only four basic operations (+, -, /, *)."
   ]
  },
  {
   "cell_type": "code",
   "execution_count": 15,
   "id": "22bacf86-0854-4580-82e3-eaae7cfc7253",
   "metadata": {},
   "outputs": [
    {
     "name": "stdin",
     "output_type": "stream",
     "text": [
      "Enter the first number:  5\n",
      "Enter the second number:  9\n",
      "Enter the operation (+, -, /, *):  *\n"
     ]
    },
    {
     "name": "stdout",
     "output_type": "stream",
     "text": [
      "The result is: 45.0\n"
     ]
    }
   ],
   "source": [
    "def calculator():\n",
    "    num1 = float(input(\"Enter the first number: \"))\n",
    "    num2 = float(input(\"Enter the second number: \"))\n",
    "    operation = input(\"Enter the operation (+, -, /, *): \").strip()\n",
    "\n",
    "    if operation == '+':\n",
    "        print(f\"The result is: {num1 + num2}\")\n",
    "    elif operation == '-':\n",
    "        print(f\"The result is: {num1 - num2}\")\n",
    "    elif operation == '*':\n",
    "        print(f\"The result is: {num1 * num2}\")\n",
    "    elif operation == '/':\n",
    "        if num2 != 0:\n",
    "            print(f\"The result is: {num1 / num2}\")\n",
    "        else:\n",
    "            print(\"Error: Division by zero\")\n",
    "    else:\n",
    "        print(\"Invalid operation\")\n",
    "\n",
    "calculator()\n"
   ]
  },
  {
   "cell_type": "markdown",
   "id": "5ffb0089-cbb1-4a85-81ec-91783196e7f8",
   "metadata": {},
   "source": [
    "# Question 1.8\n",
    "Write a program to find the larger of the three pre-specified numbers using ternary operators."
   ]
  },
  {
   "cell_type": "code",
   "execution_count": 16,
   "id": "d6ad08f8-35ac-4073-a4d0-ccaeda4790c5",
   "metadata": {},
   "outputs": [
    {
     "name": "stdout",
     "output_type": "stream",
     "text": [
      "The largest number is: 20\n"
     ]
    }
   ],
   "source": [
    "a, b, c = 10, 20, 15\n",
    "largest = a if (a > b and a > c) else (b if b > c else c)\n",
    "print(f\"The largest number is: {largest}\")\n"
   ]
  },
  {
   "cell_type": "markdown",
   "id": "7812208b-9fce-40da-8bf9-dd136e4f3762",
   "metadata": {},
   "source": [
    "# Question 1.9\n",
    "Write a program to find the factors of a whole number using a while loop."
   ]
  },
  {
   "cell_type": "code",
   "execution_count": 17,
   "id": "0984d91c-9a0e-4a8d-901c-5b2e8e258668",
   "metadata": {},
   "outputs": [
    {
     "name": "stdin",
     "output_type": "stream",
     "text": [
      "Enter a number:  52\n"
     ]
    },
    {
     "name": "stdout",
     "output_type": "stream",
     "text": [
      "Factors of 52 are: \n",
      "1\n",
      "2\n",
      "4\n",
      "13\n",
      "26\n",
      "52\n"
     ]
    }
   ],
   "source": [
    "num = int(input(\"Enter a number: \"))\n",
    "i = 1\n",
    "print(f\"Factors of {num} are: \")\n",
    "while i <= num:\n",
    "    if num % i == 0:\n",
    "        print(i)\n",
    "    i += 1\n"
   ]
  },
  {
   "cell_type": "markdown",
   "id": "c9a31528-c95f-4039-9386-6d8fbf654ec6",
   "metadata": {},
   "source": [
    "# Question 1.10\n",
    "Write a program to find the sum of all the positive numbers entered by the user. As soon as the user enters a negative number, stop taking in any further input from the user and display the sum."
   ]
  },
  {
   "cell_type": "markdown",
   "id": "a1c0b93b-5750-4eb9-a2e9-3efe9c86e095",
   "metadata": {},
   "source": [
    "def add():\n",
    "    totle = 0 \n",
    "    while True:\n",
    "        num = int(input(\"Enter the number\"))\n",
    "        if num < 0:\n",
    "            print(\"negitive number is not allowed\")\n",
    "            break\n",
    "        else :\n",
    "            totle += num\n",
    "            \n",
    "            print(f\"the totle sum is : {totle}\")\n",
    "            \n",
    "add()"
   ]
  },
  {
   "cell_type": "markdown",
   "id": "282869f6-df5a-4d80-940c-99d26c9bc6be",
   "metadata": {},
   "source": [
    "# Question 1.11\n",
    "Write a program to find prime numbers between 2 to 100 using nested for loops."
   ]
  },
  {
   "cell_type": "code",
   "execution_count": 18,
   "id": "4d76a566-2228-43dc-b309-92c8a52e2bea",
   "metadata": {},
   "outputs": [
    {
     "name": "stdout",
     "output_type": "stream",
     "text": [
      "2\n",
      "3\n",
      "5\n",
      "7\n",
      "11\n",
      "13\n",
      "17\n",
      "19\n",
      "23\n",
      "29\n",
      "31\n",
      "37\n",
      "41\n",
      "43\n",
      "47\n",
      "53\n",
      "59\n",
      "61\n",
      "67\n",
      "71\n",
      "73\n",
      "79\n",
      "83\n",
      "89\n",
      "97\n"
     ]
    }
   ],
   "source": [
    "for num in range(2, 101):\n",
    "    is_prime = True\n",
    "    for i in range(2, int(num ** 0.5) + 1):\n",
    "        if num % i == 0:\n",
    "            is_prime = False\n",
    "            break\n",
    "    if is_prime:\n",
    "        print(num)\n"
   ]
  },
  {
   "cell_type": "markdown",
   "id": "9be367a1-756f-4f2e-b958-f390e3affe47",
   "metadata": {},
   "source": [
    "# Question 1.12\n",
    "Accept the marks of the student in five major subjects and display the same?\n",
    "Calculate the sum of the marks of all subjects.Divide the total marks by number of subjects (i.e. 5), calculate\n",
    "percentage = total marks/5 and display the percentage?\n",
    "Find the grade of the student as per the following criteria . Hint: Use Match & case for this.:"
   ]
  },
  {
   "cell_type": "code",
   "execution_count": 19,
   "id": "a8a6724a-6a06-4f0f-b583-d292701fd07b",
   "metadata": {},
   "outputs": [
    {
     "name": "stdin",
     "output_type": "stream",
     "text": [
      "Enter marks for Math:  100\n",
      "Enter marks for Science:  100\n",
      "Enter marks for English:  100\n",
      "Enter marks for History:  100\n",
      "Enter marks for Geography:  100\n"
     ]
    },
    {
     "name": "stdout",
     "output_type": "stream",
     "text": [
      "Total Marks: 500\n",
      "Percentage: 100.0%\n",
      "Grade: A\n"
     ]
    }
   ],
   "source": [
    "marks = []\n",
    "subjects = [\"Math\", \"Science\", \"English\", \"History\", \"Geography\"]\n",
    "\n",
    "for subject in subjects:\n",
    "    marks.append(int(input(f\"Enter marks for {subject}: \")))\n",
    "\n",
    "total_marks = sum(marks)\n",
    "percentage = total_marks / 5\n",
    "\n",
    "print(f\"Total Marks: {total_marks}\")\n",
    "print(f\"Percentage: {percentage}%\")\n",
    "\n",
    "match percentage:\n",
    "    case _ if percentage >= 90:\n",
    "        print(\"Grade: A\")\n",
    "    case _ if percentage >= 80:\n",
    "        print(\"Grade: B\")\n",
    "    case _ if percentage >= 70:\n",
    "        print(\"Grade: C\")\n",
    "    case _ if percentage >= 60:\n",
    "        print(\"Grade: D\")\n",
    "    case _:\n",
    "        print(\"Grade: F\")\n"
   ]
  },
  {
   "cell_type": "markdown",
   "id": "c3141e8f-e9b1-4a9b-bc29-09bdda1e5955",
   "metadata": {},
   "source": [
    "# Question 1.13"
   ]
  },
  {
   "cell_type": "code",
   "execution_count": 20,
   "id": "1058f224-7585-444a-b801-e91ecd8cab09",
   "metadata": {},
   "outputs": [
    {
     "name": "stdin",
     "output_type": "stream",
     "text": [
      "Enter the wavelength in nm:  390\n"
     ]
    },
    {
     "name": "stdout",
     "output_type": "stream",
     "text": [
      "Violet\n"
     ]
    }
   ],
   "source": [
    "wavelength = float(input(\"Enter the wavelength in nm: \"))\n",
    "\n",
    "match wavelength:\n",
    "    case _ if 380 <= wavelength <= 450:\n",
    "        print(\"Violet\")\n",
    "    case _ if 450 < wavelength <= 495:\n",
    "        print(\"Blue\")\n",
    "    case _ if 495 < wavelength <= 570:\n",
    "        print(\"Green\")\n",
    "    case _ if 570 < wavelength <= 590:\n",
    "        print(\"Yellow\")\n",
    "    case _ if 590 < wavelength <= 620:\n",
    "        print(\"Orange\")\n",
    "    case _ if 620 < wavelength <= 750:\n",
    "        print(\"Red\")\n",
    "    case _:\n",
    "        print(\"Wavelength out of VIBGYOR range\")\n"
   ]
  },
  {
   "cell_type": "markdown",
   "id": "645cc11a-f4e6-4fa8-9403-4b41e1c32237",
   "metadata": {},
   "source": [
    "# Question 1.14\n",
    "mass_moon = 7A347 7309e22 # Mass of Moon in kilograms\n",
    "mass_sun = 1A989e30 # Mass of Sun in kilograms\n",
    "distance_earth_sun = 1A49 e11 # Average distance between Earth and Sun in meters\n",
    "distance_moon_earth = 3A844e8 # Average distance between Moon and Earth in meters\n",
    "Tasks\n",
    "* Calculate the gravitational force between the Earth and the Sun@\n",
    "* Calculate the gravitational force between the Moon and the Earth@\n",
    "* Compare the calculated forces to determine which gravitational force is stronger@\n",
    "* Explain which celestial body (Earth or Moon) is more attracted to the other based on the comparison."
   ]
  },
  {
   "cell_type": "code",
   "execution_count": 21,
   "id": "578be8bb-f103-48d8-b78e-b155efa5ea37",
   "metadata": {},
   "outputs": [
    {
     "name": "stdout",
     "output_type": "stream",
     "text": [
      "Gravitational force between Earth and Sun: 3.5709828874555194e+22 N\n",
      "Gravitational force between Moon and Earth: 1.9820381398036398e+20 N\n",
      "The Earth is more attracted to the Sun than the Moon is to the Earth.\n"
     ]
    }
   ],
   "source": [
    "G = 6.67430e-11  # Gravitational constant in m^3 kg^-1 s^-2\n",
    "mass_earth = 5.972e24  # Mass of Earth in kilograms\n",
    "mass_moon = 7.3477309e22  # Mass of Moon in kilograms\n",
    "mass_sun = 1.989e30  # Mass of Sun in kilograms\n",
    "distance_earth_sun = 1.49e11  # Average distance between Earth and Sun in meters\n",
    "distance_moon_earth = 3.844e8  # Average distance between Moon and Earth in meters\n",
    "\n",
    "# Gravitational force between Earth and Sun\n",
    "force_earth_sun = G * mass_earth * mass_sun / (distance_earth_sun ** 2)\n",
    "\n",
    "# Gravitational force between Moon and Earth\n",
    "force_moon_earth = G * mass_moon * mass_earth / (distance_moon_earth ** 2)\n",
    "\n",
    "print(f\"Gravitational force between Earth and Sun: {force_earth_sun} N\")\n",
    "print(f\"Gravitational force between Moon and Earth: {force_moon_earth} N\")\n",
    "\n",
    "if force_earth_sun > force_moon_earth:\n",
    "    print(\"The Earth is more attracted to the Sun than the Moon is to the Earth.\")\n",
    "else:\n",
    "    print(\"The Moon is more attracted to the Earth than the Earth is to the Sun.\")"
   ]
  },
  {
   "cell_type": "markdown",
   "id": "65b76bb3-b715-4d72-93c2-62057f4c039c",
   "metadata": {},
   "source": [
    "# Question 1.15\n",
    "Design and implement a Python program for managing student information using object-oriented\n",
    "principles. Create a class called `Student` with encapsulated attributes for name, age, and roll number.\n",
    "Implement getter and setter methods for these attributes. Additionally, provide methods to display student\n",
    "information and update student details."
   ]
  },
  {
   "cell_type": "code",
   "execution_count": 22,
   "id": "1a4d557b-8f7c-4a3c-a689-26179104ddf1",
   "metadata": {},
   "outputs": [
    {
     "name": "stdout",
     "output_type": "stream",
     "text": [
      "Name: John Doe, Age: 20, Roll Number: 101\n",
      "Name: Jane Doe, Age: 21, Roll Number: 102\n"
     ]
    }
   ],
   "source": [
    "class Student:\n",
    "    def __init__(self, name, age, roll_number):\n",
    "        self.__name = name\n",
    "        self.__age = age\n",
    "        self.__roll_number = roll_number\n",
    "\n",
    "    def get_name(self):\n",
    "        return self.__name\n",
    "\n",
    "    def set_name(self, name):\n",
    "        self.__name = name\n",
    "\n",
    "    def get_age(self):\n",
    "        return self.__age\n",
    "\n",
    "    def set_age(self, age):\n",
    "        self.__age = age\n",
    "\n",
    "    def get_roll_number(self):\n",
    "        return self.__roll_number\n",
    "\n",
    "    def set_roll_number(self, roll_number):\n",
    "        self.__roll_number = roll_number\n",
    "\n",
    "    def display_info(self):\n",
    "        print(f\"Name: {self.__name}, Age: {self.__age}, Roll Number: {self.__roll_number}\")\n",
    "\n",
    "    def update_info(self, name, age, roll_number):\n",
    "        self.__name = name\n",
    "        self.__age = age\n",
    "        self.__roll_number = roll_number\n",
    "\n",
    "# Testing the class\n",
    "student1 = Student(\"John Doe\", 20, 101)\n",
    "student1.display_info()\n",
    "student1.set_name(\"Jane Doe\")\n",
    "student1.set_age(21)\n",
    "student1.set_roll_number(102)\n",
    "student1.display_info()\n"
   ]
  },
  {
   "cell_type": "markdown",
   "id": "e25b0e66-dce9-4350-bf11-5c2278cf074b",
   "metadata": {},
   "source": [
    "# Question 1.16\n",
    "Library Management System using OOP:"
   ]
  },
  {
   "cell_type": "code",
   "execution_count": 23,
   "id": "56839b73-16bd-4ebf-9a22-e854d2878514",
   "metadata": {},
   "outputs": [
    {
     "name": "stdout",
     "output_type": "stream",
     "text": [
      "You have borrowed the book '1984' by George Orwell\n",
      "You have returned the book '1984' by George Orwell\n"
     ]
    }
   ],
   "source": [
    "class LibraryBook:\n",
    "    def __init__(self, book_name, author, available=True):\n",
    "        self.__book_name = book_name\n",
    "        self.__author = author\n",
    "        self.__available = available\n",
    "\n",
    "    def borrow_book(self):\n",
    "        if self.__available:\n",
    "            self.__available = False\n",
    "            print(f\"You have borrowed the book '{self.__book_name}' by {self.__author}\")\n",
    "        else:\n",
    "            print(f\"Sorry, the book '{self.__book_name}' is currently unavailable\")\n",
    "\n",
    "    def return_book(self):\n",
    "        self.__available = True\n",
    "        print(f\"You have returned the book '{self.__book_name}' by {self.__author}\")\n",
    "\n",
    "    def is_available(self):\n",
    "        return self.__available\n",
    "\n",
    "# Testing the class\n",
    "book1 = LibraryBook(\"1984\", \"George Orwell\")\n",
    "book1.borrow_book()\n",
    "book1.return_book()\n"
   ]
  },
  {
   "cell_type": "markdown",
   "id": "fd0598af-b8ea-4d53-ab9a-b00c9fa5c9b2",
   "metadata": {},
   "source": [
    "# Question 1.17\n",
    "Banking System using OOP:"
   ]
  },
  {
   "cell_type": "code",
   "execution_count": 24,
   "id": "122a6288-2297-4267-b6dd-8f224b143c96",
   "metadata": {},
   "outputs": [
    {
     "name": "stdout",
     "output_type": "stream",
     "text": [
      "Deposited 500. New balance is 500\n",
      "Withdrew 100. New balance is 400\n",
      "Balance: 400\n"
     ]
    }
   ],
   "source": [
    "class BankAccount:\n",
    "    def __init__(self, account_number, balance=0):\n",
    "        self.account_number = account_number\n",
    "        self.balance = balance\n",
    "\n",
    "    def deposit(self, amount):\n",
    "        self.balance += amount\n",
    "        print(f\"Deposited {amount}. New balance is {self.balance}\")\n",
    "\n",
    "    def withdraw(self, amount):\n",
    "        if amount <= self.balance:\n",
    "            self.balance -= amount\n",
    "            print(f\"Withdrew {amount}. New balance is {self.balance}\")\n",
    "        else:\n",
    "            print(\"Insufficient funds\")\n",
    "\n",
    "    def check_balance(self):\n",
    "        print(f\"Balance: {self.balance}\")\n",
    "\n",
    "class SavingsAccount(BankAccount):\n",
    "    pass\n",
    "\n",
    "class CheckingAccount(BankAccount):\n",
    "    pass\n",
    "\n",
    "# Testing the classes\n",
    "savings = SavingsAccount(\"12345678\")\n",
    "savings.deposit(500)\n",
    "savings.withdraw(100)\n",
    "savings.check_balance()\n"
   ]
  },
  {
   "cell_type": "markdown",
   "id": "12a4eccf-34c9-4f94-a744-b643fbf1f8db",
   "metadata": {},
   "source": [
    "# Question 1.18\n",
    "Animal Sound Program using OOP:"
   ]
  },
  {
   "cell_type": "code",
   "execution_count": 25,
   "id": "04df4586-5176-4aad-b166-8b42b28e3b10",
   "metadata": {},
   "outputs": [
    {
     "name": "stdout",
     "output_type": "stream",
     "text": [
      "Bark\n",
      "Meow\n"
     ]
    }
   ],
   "source": [
    "class Animal:\n",
    "    def make_sound(self):\n",
    "        pass\n",
    "\n",
    "class Dog(Animal):\n",
    "    def make_sound(self):\n",
    "        return \"Bark\"\n",
    "\n",
    "class Cat(Animal):\n",
    "    def make_sound(self):\n",
    "        return \"Meow\"\n",
    "\n",
    "# Testing the classes\n",
    "dog = Dog()\n",
    "cat = Cat()\n",
    "print(dog.make_sound())  # Output: Bark\n",
    "print(cat.make_sound())  # Output: Meow\n"
   ]
  },
  {
   "cell_type": "markdown",
   "id": "81c5ec46-b7e8-4ebf-89bc-302a06d8c2ed",
   "metadata": {},
   "source": [
    "# Question 1.19\n",
    "Restaurant Management System using OOP:"
   ]
  },
  {
   "cell_type": "code",
   "execution_count": 26,
   "id": "e3205520-77a3-4e46-b258-0a94752f1324",
   "metadata": {},
   "outputs": [
    {
     "name": "stdout",
     "output_type": "stream",
     "text": [
      "Name: Burger, Description: Delicious beef burger, Price: 5.99, Category: Food\n",
      "Name: Burger, Description: Delicious beef burger, Price: 6.99, Category: Food\n"
     ]
    }
   ],
   "source": [
    "class MenuItem:\n",
    "    def __init__(self, name, description, price, category):\n",
    "        self.__name = name\n",
    "        self.__description = description\n",
    "        self.__price = price\n",
    "        self.__category = category\n",
    "\n",
    "    def update_item(self, name=None, description=None, price=None, category=None):\n",
    "        if name:\n",
    "            self.__name = name\n",
    "        if description:\n",
    "            self.__description = description\n",
    "        if price:\n",
    "            self.__price = price\n",
    "        if category:\n",
    "            self.__category = category\n",
    "\n",
    "    def display_item(self):\n",
    "        print(f\"Name: {self.__name}, Description: {self.__description}, Price: {self.__price}, Category: {self.__category}\")\n",
    "\n",
    "class FoodItem(MenuItem):\n",
    "    pass\n",
    "\n",
    "class BeverageItem(MenuItem):\n",
    "    pass\n",
    "\n",
    "# Testing the classes\n",
    "food = FoodItem(\"Burger\", \"Delicious beef burger\", 5.99, \"Food\")\n",
    "food.display_item()\n",
    "food.update_item(price=6.99)\n",
    "food.display_item()\n"
   ]
  },
  {
   "cell_type": "markdown",
   "id": "c819b792-ceaf-43c4-836e-e45ea7f9f2f1",
   "metadata": {},
   "source": [
    "# Question 1.20\n",
    "Hotel Management System using OOP:# "
   ]
  },
  {
   "cell_type": "code",
   "execution_count": 27,
   "id": "d2e9952f-8edf-4137-9392-a00a575ef096",
   "metadata": {},
   "outputs": [
    {
     "name": "stdout",
     "output_type": "stream",
     "text": [
      "Room 101 is now booked.\n",
      "Checked into room 101.\n",
      "Checked out of room 101.\n"
     ]
    }
   ],
   "source": [
    "class Room:\n",
    "    def __init__(self, room_number, room_type, rate, available=True):\n",
    "        self.__room_number = room_number\n",
    "        self.__room_type = room_type\n",
    "        self.__rate = rate\n",
    "        self.__available = available\n",
    "\n",
    "    def book_room(self):\n",
    "        if self.__available:\n",
    "            self.__available = False\n",
    "            print(f\"Room {self.__room_number} is now booked.\")\n",
    "        else:\n",
    "            print(f\"Room {self.__room_number} is already booked.\")\n",
    "\n",
    "    def check_in(self):\n",
    "        if not self.__available:\n",
    "            print(f\"Checked into room {self.__room_number}.\")\n",
    "        else:\n",
    "            print(f\"Room {self.__room_number} is available for check-in.\")\n",
    "\n",
    "    def check_out(self):\n",
    "        if not self.__available:\n",
    "            self.__available = True\n",
    "            print(f\"Checked out of room {self.__room_number}.\")\n",
    "        else:\n",
    "            print(f\"Room {self.__room_number} is already checked out.\")\n",
    "\n",
    "class SuiteRoom(Room):\n",
    "    pass\n",
    "\n",
    "class StandardRoom(Room):\n",
    "    pass\n",
    "\n",
    "# Testing the classes\n",
    "room = StandardRoom(101, \"Standard\", 100)\n",
    "room.book_room()\n",
    "room.check_in()\n",
    "room.check_out()\n"
   ]
  },
  {
   "cell_type": "markdown",
   "id": "5e9a0ef4-eef7-453d-b288-a57954c0a0fa",
   "metadata": {},
   "source": [
    "# Question 1.21\n",
    "Fitness Club Management System using OOP:"
   ]
  },
  {
   "cell_type": "code",
   "execution_count": 28,
   "id": "a6334339-a136-4b35-a6dd-465fc98c3f8c",
   "metadata": {},
   "outputs": [
    {
     "name": "stdout",
     "output_type": "stream",
     "text": [
      "Member John Doe registered with Individual membership.\n",
      "Membership for John Doe renewed.\n",
      "Membership for John Doe cancelled.\n"
     ]
    }
   ],
   "source": [
    "class Member:\n",
    "    def __init__(self, name, age, membership_type):\n",
    "        self.__name = name\n",
    "        self.__age = age\n",
    "        self.__membership_type = membership_type\n",
    "        self.__status = \"Active\"\n",
    "\n",
    "    def register_member(self):\n",
    "        print(f\"Member {self.__name} registered with {self.__membership_type} membership.\")\n",
    "\n",
    "    def renew_membership(self):\n",
    "        self.__status = \"Renewed\"\n",
    "        print(f\"Membership for {self.__name} renewed.\")\n",
    "\n",
    "    def cancel_membership(self):\n",
    "        self.__status = \"Cancelled\"\n",
    "        print(f\"Membership for {self.__name} cancelled.\")\n",
    "\n",
    "class FamilyMember(Member):\n",
    "    pass\n",
    "\n",
    "class IndividualMember(Member):\n",
    "    pass\n",
    "\n",
    "# Testing the classes\n",
    "member = IndividualMember(\"John Doe\", 30, \"Individual\")\n",
    "member.register_member()\n",
    "member.renew_membership()\n",
    "member.cancel_membership()\n"
   ]
  },
  {
   "cell_type": "markdown",
   "id": "5adededa-73d3-4e54-bfab-9268f90d25e1",
   "metadata": {},
   "source": [
    "# Question 1.22\n",
    "Event Management System using OOP:"
   ]
  },
  {
   "cell_type": "code",
   "execution_count": 29,
   "id": "0853505f-9493-4847-a531-409c0da332c5",
   "metadata": {},
   "outputs": [
    {
     "name": "stdout",
     "output_type": "stream",
     "text": [
      "Event Birthday Party created.\n",
      "Added attendee John to event Birthday Party.\n",
      "Added attendee Doe to event Birthday Party.\n",
      "Total attendees: 2\n",
      "Removed attendee John from event Birthday Party.\n",
      "Total attendees: 1\n"
     ]
    }
   ],
   "source": [
    "\n",
    "class Event:\n",
    "    def __init__(self, name, date, time, location):\n",
    "        self.__name = name\n",
    "        self.__date = date\n",
    "        self.__time = time\n",
    "        self.__location = location\n",
    "        self.__attendees = []\n",
    "\n",
    "    def create_event(self):\n",
    "        print(f\"Event {self.__name} created.\")\n",
    "\n",
    "    def add_attendee(self, attendee):\n",
    "        self.__attendees.append(attendee)\n",
    "        print(f\"Added attendee {attendee} to event {self.__name}.\")\n",
    "\n",
    "    def remove_attendee(self, attendee):\n",
    "        self.__attendees.remove(attendee)\n",
    "        print(f\"Removed attendee {attendee} from event {self.__name}.\")\n",
    "\n",
    "    def get_total_attendees(self):\n",
    "        return len(self.__attendees)\n",
    "\n",
    "class PrivateEvent(Event):\n",
    "    pass\n",
    "\n",
    "class PublicEvent(Event):\n",
    "    pass\n",
    "\n",
    "# Testing the classes\n",
    "event = PrivateEvent(\"Birthday Party\", \"2024-08-10\", \"18:00\", \"Home\")\n",
    "event.create_event()\n",
    "event.add_attendee(\"John\")\n",
    "event.add_attendee(\"Doe\")\n",
    "print(f\"Total attendees: {event.get_total_attendees()}\")\n",
    "event.remove_attendee(\"John\")\n",
    "print(f\"Total attendees: {event.get_total_attendees()}\")\n"
   ]
  },
  {
   "cell_type": "markdown",
   "id": "0dd3932d-931f-45a5-815e-84fb08ebf55e",
   "metadata": {},
   "source": [
    "#  Question 10: Airline Reservation System using OOP"
   ]
  },
  {
   "cell_type": "code",
   "execution_count": 30,
   "id": "f1b5c3e3-5456-4667-93bc-5764988e2b33",
   "metadata": {},
   "outputs": [
    {
     "name": "stdout",
     "output_type": "stream",
     "text": [
      "Seat booked successfully!\n",
      "Remaining seats: 149\n",
      "Reservation canceled successfully!\n",
      "Remaining seats: 150\n"
     ]
    }
   ],
   "source": [
    "class Flight:\n",
    "    def __init__(self, flight_number, departure_airport, arrival_airport, departure_time, arrival_time, available_seats):\n",
    "        self.__flight_number = flight_number\n",
    "        self.__departure_airport = departure_airport\n",
    "        self.__arrival_airport = arrival_airport\n",
    "        self.__departure_time = departure_time\n",
    "        self.__arrival_time = arrival_time\n",
    "        self.__available_seats = available_seats\n",
    "\n",
    "    def book_seat(self):\n",
    "        if self.__available_seats > 0:\n",
    "            self.__available_seats -= 1\n",
    "            print(\"Seat booked successfully!\")\n",
    "        else:\n",
    "            print(\"No seats available!\")\n",
    "\n",
    "    def cancel_reservation(self):\n",
    "        self.__available_seats += 1\n",
    "        print(\"Reservation canceled successfully!\")\n",
    "\n",
    "    def get_remaining_seats(self):\n",
    "        return self.__available_seats\n",
    "\n",
    "class DomesticFlight(Flight):\n",
    "    pass\n",
    "\n",
    "class InternationalFlight(Flight):\n",
    "    pass\n",
    "\n",
    "# Testing the classes\n",
    "domestic_flight = DomesticFlight(\"DF123\", \"JFK\", \"LAX\", \"10:00\", \"13:00\", 150)\n",
    "domestic_flight.book_seat()\n",
    "print(f\"Remaining seats: {domestic_flight.get_remaining_seats()}\")\n",
    "domestic_flight.cancel_reservation()\n",
    "print(f\"Remaining seats: {domestic_flight.get_remaining_seats()}\")\n"
   ]
  },
  {
   "cell_type": "markdown",
   "id": "02241cc3-3daa-4592-8e04-132ccd26609b",
   "metadata": {},
   "source": [
    "# Question 11: Define a Python module named constants.py containing constants like pi and the speed of light"
   ]
  },
  {
   "cell_type": "code",
   "execution_count": 31,
   "id": "0ca8bd78-3dd6-44c7-af92-152c1f720c02",
   "metadata": {},
   "outputs": [],
   "source": [
    "# constants.py\n",
    "PI = 3.14159\n",
    "SPEED_OF_LIGHT = 299792458  # m/s\n"
   ]
  },
  {
   "cell_type": "markdown",
   "id": "fab67338-d339-4d2c-b832-019b24f89025",
   "metadata": {},
   "source": [
    "# Question 12: Write a Python module named calculator.py containing functions for addition, subtraction, multiplication, and division"
   ]
  },
  {
   "cell_type": "code",
   "execution_count": 32,
   "id": "526bc4e1-1709-4f81-af2a-c0d3135efb1b",
   "metadata": {},
   "outputs": [],
   "source": [
    "# calculator.py\n",
    "def add(a, b):\n",
    "    return a + b\n",
    "\n",
    "def subtract(a, b):\n",
    "    return a - b\n",
    "\n",
    "def multiply(a, b):\n",
    "    return a * b\n",
    "\n",
    "def divide(a, b):\n",
    "    if b != 0:\n",
    "        return a / b\n",
    "    else:\n",
    "        raise ValueError(\"Cannot divide by zero\")\n"
   ]
  },
  {
   "cell_type": "markdown",
   "id": "2ec18d0b-d652-4ac3-b657-15c4627a83ad",
   "metadata": {},
   "source": [
    "# Question 13: Implement a Python package structure for a project named ecommerce"
   ]
  },
  {
   "cell_type": "code",
   "execution_count": 33,
   "id": "e7dec2ab-a325-40a0-b1d3-00a24447358a",
   "metadata": {},
   "outputs": [
    {
     "ename": "NameError",
     "evalue": "name '__init__' is not defined",
     "output_type": "error",
     "traceback": [
      "\u001b[0;31m---------------------------------------------------------------------------\u001b[0m",
      "\u001b[0;31mNameError\u001b[0m                                 Traceback (most recent call last)",
      "Cell \u001b[0;32mIn[33], line 1\u001b[0m\n\u001b[0;32m----> 1\u001b[0m \u001b[38;5;21;43m__init__\u001b[39;49m\u001b[38;5;241m.\u001b[39mpy\n\u001b[1;32m      2\u001b[0m product_management\u001b[38;5;241m.\u001b[39mpy\n\u001b[1;32m      3\u001b[0m order_processing\u001b[38;5;241m.\u001b[39mpy\n",
      "\u001b[0;31mNameError\u001b[0m: name '__init__' is not defined"
     ]
    }
   ],
   "source": [
    "\n",
    "__init__.py\n",
    "product_management.py\n",
    "order_processing.py\n"
   ]
  },
  {
   "cell_type": "markdown",
   "id": "052c3c2d-5eb7-4873-a327-89165a9cf060",
   "metadata": {},
   "source": [
    "# Question 14: Implement a Python module named string_utils.py"
   ]
  },
  {
   "cell_type": "code",
   "execution_count": null,
   "id": "4f109cb6-5946-4df4-bdb4-95c0000790ee",
   "metadata": {},
   "outputs": [],
   "source": [
    "# string_utils.py\n",
    "def reverse_string(s):\n",
    "    return s[::-1]\n",
    "\n",
    "def capitalize_string(s):\n",
    "    return s.capitalize()\n"
   ]
  },
  {
   "cell_type": "markdown",
   "id": "4e9b4bb1-fdbc-442d-b927-3d5446b78838",
   "metadata": {},
   "source": [
    "# Question 15: Write a Python module named file_operations.py"
   ]
  },
  {
   "cell_type": "code",
   "execution_count": null,
   "id": "13af5783-c746-4ca8-80da-98f8eab2f4ca",
   "metadata": {},
   "outputs": [],
   "source": [
    "# file_operations.py\n",
    "def read_file(file_path):\n",
    "    with open(file_path, 'r') as file:\n",
    "        return file.read()\n",
    "\n",
    "def write_file(file_path, content):\n",
    "    with open(file_path, 'w') as file:\n",
    "        file.write(content)\n",
    "\n",
    "def append_file(file_path, content):\n",
    "    with open(file_path, 'a') as file:\n",
    "        file.write(content)\n"
   ]
  },
  {
   "cell_type": "markdown",
   "id": "ff4b8cfa-f389-428a-ae87-8b9655155581",
   "metadata": {},
   "source": [
    "# Question 16: Create a text file named \"employees.txt\" and write details"
   ]
  },
  {
   "cell_type": "code",
   "execution_count": null,
   "id": "eb585e56-f937-4300-b00b-898d0b36c454",
   "metadata": {},
   "outputs": [],
   "source": [
    "employees = [\n",
    "    {\"name\": \"Alice\", \"age\": 30, \"salary\": 50000},\n",
    "    {\"name\": \"Bob\", \"age\": 25, \"salary\": 45000},\n",
    "    {\"name\": \"Charlie\", \"age\": 35, \"salary\": 55000},\n",
    "]\n",
    "\n",
    "with open(\"employees.txt\", \"w\") as file:\n",
    "    for employee in employees:\n",
    "        file.write(f\"Name: {employee['name']}, Age: {employee['age']}, Salary: {employee['salary']}\\n\")\n"
   ]
  },
  {
   "cell_type": "markdown",
   "id": "e334764e-be87-458b-a012-2a012d533887",
   "metadata": {},
   "source": [
    "# Question 17: Display contents of \"inventory.txt\" line by line"
   ]
  },
  {
   "cell_type": "code",
   "execution_count": null,
   "id": "eae71f6f-cfd2-438f-8c0e-3248f94e8b65",
   "metadata": {},
   "outputs": [],
   "source": [
    "with open(\"inventory.txt\", \"r\") as file:\n",
    "    for line in file:\n",
    "        print(line.strip())\n"
   ]
  },
  {
   "cell_type": "markdown",
   "id": "1c2b2e04-fab4-40dd-80d4-070e9de4b170",
   "metadata": {},
   "source": [
    "# Question 18: Calculate total amount spent on various expenses listed in \"expenses.txt\"\n"
   ]
  },
  {
   "cell_type": "code",
   "execution_count": null,
   "id": "fb4a2f3c-1236-4a09-9b18-cdad8f2e89bb",
   "metadata": {},
   "outputs": [],
   "source": [
    "total_expense = 0\n",
    "\n",
    "with open(\"expenses.txt\", \"r\") as file:\n",
    "    for line in file:\n",
    "        total_expense += float(line.strip())\n",
    "\n",
    "print(f\"Total expense: {total_expense}\")\n"
   ]
  },
  {
   "cell_type": "markdown",
   "id": "af0550d2-5e74-4b3d-9781-fae24da13941",
   "metadata": {},
   "source": [
    "# Question 19: Count occurrences of each word in \"paragraph.txt\" and display in alphabetical order"
   ]
  },
  {
   "cell_type": "code",
   "execution_count": null,
   "id": "cf273620-d334-428d-a035-a70399031b4c",
   "metadata": {},
   "outputs": [],
   "source": [
    "from collections import Counter\n",
    "\n",
    "with open(\"paragraph.txt\", \"r\") as file:\n",
    "    words = file.read().split()\n",
    "\n",
    "word_count = Counter(words)\n",
    "for word in sorted(word_count):\n",
    "    print(f\"{word}: {word_count[word]}\")\n"
   ]
  },
  {
   "cell_type": "code",
   "execution_count": null,
   "id": "854593ab-d455-4575-b996-1bcffd1a7f85",
   "metadata": {},
   "outputs": [],
   "source": []
  }
 ],
 "metadata": {
  "kernelspec": {
   "display_name": "Python 3 (ipykernel)",
   "language": "python",
   "name": "python3"
  },
  "language_info": {
   "codemirror_mode": {
    "name": "ipython",
    "version": 3
   },
   "file_extension": ".py",
   "mimetype": "text/x-python",
   "name": "python",
   "nbconvert_exporter": "python",
   "pygments_lexer": "ipython3",
   "version": "3.10.8"
  }
 },
 "nbformat": 4,
 "nbformat_minor": 5
}
